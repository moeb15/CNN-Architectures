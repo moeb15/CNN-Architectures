{
 "cells": [
  {
   "cell_type": "code",
   "execution_count": 1,
   "metadata": {},
   "outputs": [],
   "source": [
    "import tensorflow as tf\n",
    "from tensorflow import keras\n",
    "\n",
    "\n",
    "tf.random.set_seed(42)"
   ]
  },
  {
   "cell_type": "code",
   "execution_count": 10,
   "metadata": {},
   "outputs": [],
   "source": [
    "INPUT_SIZE = 224\n",
    "MIN_FILTERS = 64\n",
    "\n",
    "#vgg11\n",
    "\n",
    "vggnet_model = keras.Sequential()\n",
    "\n",
    "vggnet_model.add(keras.layers.Conv2D(filters=MIN_FILTERS,kernel_size=(3,3),input_shape=(INPUT_SIZE,INPUT_SIZE,3),\n",
    "                                     strides=1,padding='same',activation='relu'))\n",
    "vggnet_model.add(keras.layers.MaxPooling2D(pool_size=(2,2),strides=2))\n",
    "\n",
    "vggnet_model.add(keras.layers.Conv2D(filters=MIN_FILTERS*2,kernel_size=(3,3), strides=1,padding='same',\n",
    "                                     activation='relu'))\n",
    "vggnet_model.add(keras.layers.MaxPooling2D(pool_size=(2,2),strides=2))\n",
    "\n",
    "vggnet_model.add(keras.layers.Conv2D(filters=MIN_FILTERS*4,kernel_size=(3,3), strides=1,padding='same',\n",
    "                                     activation='relu'))\n",
    "vggnet_model.add(keras.layers.Conv2D(filters=MIN_FILTERS*4,kernel_size=(3,3), strides=1,padding='same',\n",
    "                                     activation='relu'))\n",
    "vggnet_model.add(keras.layers.MaxPooling2D(pool_size=(2,2),strides=2))\n",
    "\n",
    "vggnet_model.add(keras.layers.Conv2D(filters=MIN_FILTERS*8,kernel_size=(3,3), strides=1,padding='same',\n",
    "                                     activation='relu'))\n",
    "vggnet_model.add(keras.layers.Conv2D(filters=MIN_FILTERS*8,kernel_size=(3,3), strides=1,padding='same',\n",
    "                                     activation='relu'))\n",
    "vggnet_model.add(keras.layers.MaxPooling2D(pool_size=(2,2),strides=2))\n",
    "\n",
    "vggnet_model.add(keras.layers.Conv2D(filters=MIN_FILTERS*8,kernel_size=(3,3), strides=1,padding='same',\n",
    "                                     activation='relu'))\n",
    "vggnet_model.add(keras.layers.Conv2D(filters=MIN_FILTERS*8,kernel_size=(3,3), strides=1,padding='same',\n",
    "                                     activation='relu'))\n",
    "vggnet_model.add(keras.layers.MaxPooling2D(pool_size=(2,2),strides=2))\n",
    "\n",
    "vggnet_model.add(keras.layers.Flatten())\n",
    "vggnet_model.add(keras.layers.Dense(units=4096,activation='relu'))\n",
    "vggnet_model.add(keras.layers.Dropout(0.5))\n",
    "vggnet_model.add(keras.layers.Dense(units=4096,activation='relu'))\n",
    "vggnet_model.add(keras.layers.Dense(units=1000,activation='softmax'))\n",
    "\n"
   ]
  },
  {
   "cell_type": "code",
   "execution_count": 11,
   "metadata": {},
   "outputs": [
    {
     "name": "stdout",
     "output_type": "stream",
     "text": [
      "Model: \"sequential_4\"\n",
      "_________________________________________________________________\n",
      " Layer (type)                Output Shape              Param #   \n",
      "=================================================================\n",
      " conv2d_23 (Conv2D)          (None, 224, 224, 64)      1792      \n",
      "                                                                 \n",
      " max_pooling2d_20 (MaxPoolin  (None, 112, 112, 64)     0         \n",
      " g2D)                                                            \n",
      "                                                                 \n",
      " conv2d_24 (Conv2D)          (None, 112, 112, 128)     73856     \n",
      "                                                                 \n",
      " max_pooling2d_21 (MaxPoolin  (None, 56, 56, 128)      0         \n",
      " g2D)                                                            \n",
      "                                                                 \n",
      " conv2d_25 (Conv2D)          (None, 56, 56, 256)       295168    \n",
      "                                                                 \n",
      " conv2d_26 (Conv2D)          (None, 56, 56, 256)       590080    \n",
      "                                                                 \n",
      " max_pooling2d_22 (MaxPoolin  (None, 28, 28, 256)      0         \n",
      " g2D)                                                            \n",
      "                                                                 \n",
      " conv2d_27 (Conv2D)          (None, 28, 28, 512)       1180160   \n",
      "                                                                 \n",
      " conv2d_28 (Conv2D)          (None, 28, 28, 512)       2359808   \n",
      "                                                                 \n",
      " max_pooling2d_23 (MaxPoolin  (None, 14, 14, 512)      0         \n",
      " g2D)                                                            \n",
      "                                                                 \n",
      " conv2d_29 (Conv2D)          (None, 14, 14, 512)       2359808   \n",
      "                                                                 \n",
      " conv2d_30 (Conv2D)          (None, 14, 14, 512)       2359808   \n",
      "                                                                 \n",
      " max_pooling2d_24 (MaxPoolin  (None, 7, 7, 512)        0         \n",
      " g2D)                                                            \n",
      "                                                                 \n",
      " flatten_4 (Flatten)         (None, 25088)             0         \n",
      "                                                                 \n",
      " dense_12 (Dense)            (None, 4096)              102764544 \n",
      "                                                                 \n",
      " dropout (Dropout)           (None, 4096)              0         \n",
      "                                                                 \n",
      " dense_13 (Dense)            (None, 4096)              16781312  \n",
      "                                                                 \n",
      " dense_14 (Dense)            (None, 1000)              4097000   \n",
      "                                                                 \n",
      "=================================================================\n",
      "Total params: 132,863,336\n",
      "Trainable params: 132,863,336\n",
      "Non-trainable params: 0\n",
      "_________________________________________________________________\n"
     ]
    }
   ],
   "source": [
    "vggnet_model.summary()"
   ]
  }
 ],
 "metadata": {
  "kernelspec": {
   "display_name": "conda_venv",
   "language": "python",
   "name": "python3"
  },
  "language_info": {
   "codemirror_mode": {
    "name": "ipython",
    "version": 3
   },
   "file_extension": ".py",
   "mimetype": "text/x-python",
   "name": "python",
   "nbconvert_exporter": "python",
   "pygments_lexer": "ipython3",
   "version": "3.10.8"
  },
  "orig_nbformat": 4,
  "vscode": {
   "interpreter": {
    "hash": "f96650b515c2ff8f8d1286bbec20f0831cf197b61e782e1f878ec8ae626643e6"
   }
  }
 },
 "nbformat": 4,
 "nbformat_minor": 2
}
