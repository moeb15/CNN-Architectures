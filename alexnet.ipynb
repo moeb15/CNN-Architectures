{
 "cells": [
  {
   "cell_type": "code",
   "execution_count": 1,
   "metadata": {},
   "outputs": [],
   "source": [
    "import tensorflow as tf\n",
    "from tensorflow import keras\n",
    "\n",
    "tf.random.set_seed(42)"
   ]
  },
  {
   "cell_type": "code",
   "execution_count": 93,
   "metadata": {},
   "outputs": [],
   "source": [
    "INPUT_SIZE = 227\n",
    "\n",
    "c1 = keras.layers.Conv2D(filters=96,kernel_size=(11,11),input_shape=(INPUT_SIZE,INPUT_SIZE,3),\n",
    "                         strides=(4,4),activation='relu',padding='valid'\n",
    "                         ,kernel_regularizer=keras.regularizers.l2(0.0005))\n",
    "lnorm1 = keras.layers.BatchNormalization()\n",
    "m1 = keras.layers.MaxPooling2D(pool_size=(3,3),strides=(2,2))\n",
    "c2 = keras.layers.Conv2D(filters=256,kernel_size=(5,5), activation='relu',padding='same',strides=(1,1),\n",
    "                         kernel_regularizer=keras.regularizers.l2(0.0005))\n",
    "lnorm2 = keras.layers.BatchNormalization()\n",
    "m2 = keras.layers.MaxPooling2D(pool_size=(3,3),strides=(2,2))\n",
    "c3 = keras.layers.Conv2D(filters=384,kernel_size=(3,3),activation='relu',padding='same',strides=(1,1),\n",
    "                        kernel_regularizer=keras.regularizers.l2(0.0005))\n",
    "lnorm3 = keras.layers.BatchNormalization()\n",
    "c4 = keras.layers.Conv2D(filters=384,kernel_size=(3,3),activation='relu',padding='same',strides=(1,1),\n",
    "                        kernel_regularizer=keras.regularizers.l2(0.0005))\n",
    "lnorm4 = keras.layers.BatchNormalization()\n",
    "c5 = keras.layers.Conv2D(filters=256,kernel_size=(3,3),activation='relu',padding='same',strides=(1,1),\n",
    "                        kernel_regularizer=keras.regularizers.l2(0.0005))\n",
    "lnorm5 = keras.layers.BatchNormalization()\n",
    "m3 = keras.layers.MaxPooling2D(pool_size=(3,3),strides=(2,2),padding='valid')\n",
    "fl = keras.layers.Flatten()\n",
    "fc1 = keras.layers.Dense(units=4096,activation='relu')\n",
    "dl1 = keras.layers.Dropout(0.5)\n",
    "fc2 = keras.layers.Dense(units=4096,activation='relu')\n",
    "dl2 = keras.layers.Dropout(0.5)\n",
    "outl = keras.layers.Dense(units=1000,activation='softmax')\n",
    "\n",
    "\n",
    "alexnet_model = keras.Sequential([\n",
    "        c1,\n",
    "        m1,\n",
    "        lnorm1,\n",
    "        c2,\n",
    "        m2,\n",
    "        lnorm2,\n",
    "        c3,\n",
    "        lnorm3,\n",
    "        c4,\n",
    "        lnorm4,\n",
    "        c5,\n",
    "        lnorm5,\n",
    "        m3,\n",
    "        fl,\n",
    "        fc1,\n",
    "        dl1,\n",
    "        fc2,\n",
    "        dl2,\n",
    "        outl\n",
    "])"
   ]
  },
  {
   "cell_type": "code",
   "execution_count": 94,
   "metadata": {},
   "outputs": [
    {
     "name": "stdout",
     "output_type": "stream",
     "text": [
      "Model: \"sequential_51\"\n",
      "_________________________________________________________________\n",
      " Layer (type)                Output Shape              Param #   \n",
      "=================================================================\n",
      " conv2d_261 (Conv2D)         (None, 55, 55, 96)        34944     \n",
      "                                                                 \n",
      " max_pooling2d_149 (MaxPooli  (None, 27, 27, 96)       0         \n",
      " ng2D)                                                           \n",
      "                                                                 \n",
      " batch_normalization_10 (Bat  (None, 27, 27, 96)       384       \n",
      " chNormalization)                                                \n",
      "                                                                 \n",
      " conv2d_262 (Conv2D)         (None, 27, 27, 256)       614656    \n",
      "                                                                 \n",
      " max_pooling2d_150 (MaxPooli  (None, 13, 13, 256)      0         \n",
      " ng2D)                                                           \n",
      "                                                                 \n",
      " batch_normalization_11 (Bat  (None, 13, 13, 256)      1024      \n",
      " chNormalization)                                                \n",
      "                                                                 \n",
      " conv2d_263 (Conv2D)         (None, 13, 13, 384)       885120    \n",
      "                                                                 \n",
      " batch_normalization_12 (Bat  (None, 13, 13, 384)      1536      \n",
      " chNormalization)                                                \n",
      "                                                                 \n",
      " conv2d_264 (Conv2D)         (None, 13, 13, 384)       1327488   \n",
      "                                                                 \n",
      " batch_normalization_13 (Bat  (None, 13, 13, 384)      1536      \n",
      " chNormalization)                                                \n",
      "                                                                 \n",
      " conv2d_265 (Conv2D)         (None, 13, 13, 256)       884992    \n",
      "                                                                 \n",
      " batch_normalization_14 (Bat  (None, 13, 13, 256)      1024      \n",
      " chNormalization)                                                \n",
      "                                                                 \n",
      " max_pooling2d_151 (MaxPooli  (None, 6, 6, 256)        0         \n",
      " ng2D)                                                           \n",
      "                                                                 \n",
      " flatten_51 (Flatten)        (None, 9216)              0         \n",
      "                                                                 \n",
      " dense_153 (Dense)           (None, 4096)              37752832  \n",
      "                                                                 \n",
      " dropout_56 (Dropout)        (None, 4096)              0         \n",
      "                                                                 \n",
      " dense_154 (Dense)           (None, 4096)              16781312  \n",
      "                                                                 \n",
      " dropout_57 (Dropout)        (None, 4096)              0         \n",
      "                                                                 \n",
      " dense_155 (Dense)           (None, 1000)              4097000   \n",
      "                                                                 \n",
      "=================================================================\n",
      "Total params: 62,383,848\n",
      "Trainable params: 62,381,096\n",
      "Non-trainable params: 2,752\n",
      "_________________________________________________________________\n"
     ]
    }
   ],
   "source": [
    "alexnet_model.summary()"
   ]
  }
 ],
 "metadata": {
  "kernelspec": {
   "display_name": "tf",
   "language": "python",
   "name": "python3"
  },
  "language_info": {
   "codemirror_mode": {
    "name": "ipython",
    "version": 3
   },
   "file_extension": ".py",
   "mimetype": "text/x-python",
   "name": "python",
   "nbconvert_exporter": "python",
   "pygments_lexer": "ipython3",
   "version": "3.10.8 | packaged by conda-forge | (main, Nov 24 2022, 14:07:00) [MSC v.1916 64 bit (AMD64)]"
  },
  "orig_nbformat": 4,
  "vscode": {
   "interpreter": {
    "hash": "85ce6467dcf52f6959a2b79ba5c518de2af4ed85e9e681eb80a4543b12a62b7e"
   }
  }
 },
 "nbformat": 4,
 "nbformat_minor": 2
}
